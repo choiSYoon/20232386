{
  "metadata": {
    "kernelspec": {
      "display_name": "Java (rjk 2.1.0)",
      "language": "java",
      "name": "rapaio-jupyter-kernel"
    },
    "language_info": {
      "codemirror_mode": "java",
      "file_extension": ".jshell",
      "mimetype": "text/x-java-source",
      "name": "java",
      "nbconvert_exporter": "script",
      "pygments_lexer": "java",
      "version": "22.0.2+9"
    }
  },
  "nbformat_minor": 5,
  "nbformat": 4,
  "cells": [
    {
      "id": "49b2bb3f-8a94-4aba-bf67-6b97d86c0047",
      "cell_type": "markdown",
      "source": "# OOP (2024 Fall) HW1: 불변 순서쌍을 활용해 가변 순서쌍 만들기 \n- 이름: 최서윤\n- 학번: 20232386",
      "metadata": {}
    },
    {
      "id": "9c3c24aa-19ac-4c88-a228-0d1686034a24",
      "cell_type": "markdown",
      "source": "-----\n## Part A: 불변 순서쌍 Pair\n1. 클래스(또는 정적) 팩토리 메소드 `of`를 를 수정하여 완성하라.\n    - https://velog.io/@cjh8746/%EC%A0%95%EC%A0%81-%ED%8C%A9%ED%86%A0%EB%A6%AC-%EB%A9%94%EC%84%9C%EB%93%9CStatic-Factory-Method\n1. 주석 부분을 풀어 제너릭 클래스인 `Pair`가 제너릭 인터페이스 `Comparable`를 구현하도록 완성하라.\n    - https://docs.oracle.com/en/java/javase/22/docs/api/java.base/java/lang/Comparable.html",
      "metadata": {}
    },
    {
      "id": "f2b4bcb7-9d9c-494a-9762-ca0700c6f762",
      "cell_type": "code",
      "source": "public record Pair<F extends Comparable<F>, S extends Comparable<S>>(F first, S second) implements Comparable<Pair<F, S>> {\n\n    // 제네릭 메소드로 선언하여 컴파일이 되도록 수정\n    public static <F extends Comparable<F>, S extends Comparable<S>> Pair<F, S> of(F first, S second) {\n        return new Pair<>(first, second);\n    }\n\n    // 사전순 비교\n    @Override\n    public int compareTo(Pair<F, S> other) {\n        int firstComparison = this.first.compareTo(other.first);\n        if (firstComparison != 0) {\n            return firstComparison;\n        }\n        return this.second.compareTo(other.second);\n    }\n}\n",
      "metadata": {},
      "outputs": [
        {
          "ename": "CompilerException",
          "evalue": "",
          "output_type": "error",
          "traceback": [
            "\u001b[0m\u001b[1m\u001b[31mCompile error:\u001b[0m",
            "\u001b[0m\u001b[1;30m|    record Pair< F /*extends Comparable<...>*/, S /*extends Comparable<...>*/ >(F first, S second) /*implements Comparable<...>*/ {\u001b[0m",
            "\u001b[0m\u001b[1;30m|        \u001b[0m",
            "\u001b[0m\u001b[1;30m|        // 아래 팩토리 메소드 of가 컴파일되지 않고 있으니 컴파일되도록 수정하라 (힌트: 제너릭 메소드)\u001b[0m",
            "\u001b[0m\u001b[1m|        static Pair<F,S> of (\u001b[0m\u001b[1m\u001b[48;2;235;145;148mF\u001b[0m\u001b[1m first, S second) {\u001b[0m",
            "\u001b[0m\u001b[1;30m|            return new Pair<>(first, second);\u001b[0m",
            "\u001b[0m\u001b[1;30m|        }\u001b[0m",
            "\u001b[0m\u001b[1;30m|        \u001b[0m",
            "\u001b[0m\u001b[1;30m|        /*\u001b[0m",
            "\u001b[0m\u001b[1;30m|        // 사전순이 되도록 정의하기. 즉 first가 더 큰 쪽이 더 크고, first가 같으면 second를 비교\u001b[0m",
            "\u001b[0m\u001b[1;30m|        @Override\u001b[0m",
            "\u001b[0m\u001b[1;30m|        public int compareTo(...) {\u001b[0m",
            "\u001b[0m\u001b[1;30m|        }\u001b[0m",
            "\u001b[0m\u001b[1;30m|        */\u001b[0m",
            "\u001b[0m\u001b[1;30m|    }\u001b[0m",
            "\u001b[0m\u001b[1m\u001b[34mnon-static type variable F cannot be referenced from a static context\u001b[0m",
            "",
            "\u001b[0m\u001b[1;30m|    record Pair< F /*extends Comparable<...>*/, S /*extends Comparable<...>*/ >(F first, S second) /*implements Comparable<...>*/ {\u001b[0m",
            "\u001b[0m\u001b[1;30m|        \u001b[0m",
            "\u001b[0m\u001b[1;30m|        // 아래 팩토리 메소드 of가 컴파일되지 않고 있으니 컴파일되도록 수정하라 (힌트: 제너릭 메소드)\u001b[0m",
            "\u001b[0m\u001b[1m|        static Pair<F,S> of (F first, \u001b[0m\u001b[1m\u001b[48;2;235;145;148mS\u001b[0m\u001b[1m second) {\u001b[0m",
            "\u001b[0m\u001b[1;30m|            return new Pair<>(first, second);\u001b[0m",
            "\u001b[0m\u001b[1;30m|        }\u001b[0m",
            "\u001b[0m\u001b[1;30m|        \u001b[0m",
            "\u001b[0m\u001b[1;30m|        /*\u001b[0m",
            "\u001b[0m\u001b[1;30m|        // 사전순이 되도록 정의하기. 즉 first가 더 큰 쪽이 더 크고, first가 같으면 second를 비교\u001b[0m",
            "\u001b[0m\u001b[1;30m|        @Override\u001b[0m",
            "\u001b[0m\u001b[1;30m|        public int compareTo(...) {\u001b[0m",
            "\u001b[0m\u001b[1;30m|        }\u001b[0m",
            "\u001b[0m\u001b[1;30m|        */\u001b[0m",
            "\u001b[0m\u001b[1;30m|    }\u001b[0m",
            "\u001b[0m\u001b[1m\u001b[34mnon-static type variable S cannot be referenced from a static context\u001b[0m",
            "",
            "\u001b[0m\u001b[1;30m|    record Pair< F /*extends Comparable<...>*/, S /*extends Comparable<...>*/ >(F first, S second) /*implements Comparable<...>*/ {\u001b[0m",
            "\u001b[0m\u001b[1;30m|        \u001b[0m",
            "\u001b[0m\u001b[1;30m|        // 아래 팩토리 메소드 of가 컴파일되지 않고 있으니 컴파일되도록 수정하라 (힌트: 제너릭 메소드)\u001b[0m",
            "\u001b[0m\u001b[1m|        static Pair<\u001b[0m\u001b[1m\u001b[48;2;235;145;148mF\u001b[0m\u001b[1m,S> of (F first, S second) {\u001b[0m",
            "\u001b[0m\u001b[1;30m|            return new Pair<>(first, second);\u001b[0m",
            "\u001b[0m\u001b[1;30m|        }\u001b[0m",
            "\u001b[0m\u001b[1;30m|        \u001b[0m",
            "\u001b[0m\u001b[1;30m|        /*\u001b[0m",
            "\u001b[0m\u001b[1;30m|        // 사전순이 되도록 정의하기. 즉 first가 더 큰 쪽이 더 크고, first가 같으면 second를 비교\u001b[0m",
            "\u001b[0m\u001b[1;30m|        @Override\u001b[0m",
            "\u001b[0m\u001b[1;30m|        public int compareTo(...) {\u001b[0m",
            "\u001b[0m\u001b[1;30m|        }\u001b[0m",
            "\u001b[0m\u001b[1;30m|        */\u001b[0m",
            "\u001b[0m\u001b[1;30m|    }\u001b[0m",
            "\u001b[0m\u001b[1m\u001b[34mnon-static type variable F cannot be referenced from a static context\u001b[0m",
            "",
            "\u001b[0m\u001b[1;30m|    record Pair< F /*extends Comparable<...>*/, S /*extends Comparable<...>*/ >(F first, S second) /*implements Comparable<...>*/ {\u001b[0m",
            "\u001b[0m\u001b[1;30m|        \u001b[0m",
            "\u001b[0m\u001b[1;30m|        // 아래 팩토리 메소드 of가 컴파일되지 않고 있으니 컴파일되도록 수정하라 (힌트: 제너릭 메소드)\u001b[0m",
            "\u001b[0m\u001b[1m|        static Pair<F,\u001b[0m\u001b[1m\u001b[48;2;235;145;148mS\u001b[0m\u001b[1m> of (F first, S second) {\u001b[0m",
            "\u001b[0m\u001b[1;30m|            return new Pair<>(first, second);\u001b[0m",
            "\u001b[0m\u001b[1;30m|        }\u001b[0m",
            "\u001b[0m\u001b[1;30m|        \u001b[0m",
            "\u001b[0m\u001b[1;30m|        /*\u001b[0m",
            "\u001b[0m\u001b[1;30m|        // 사전순이 되도록 정의하기. 즉 first가 더 큰 쪽이 더 크고, first가 같으면 second를 비교\u001b[0m",
            "\u001b[0m\u001b[1;30m|        @Override\u001b[0m",
            "\u001b[0m\u001b[1;30m|        public int compareTo(...) {\u001b[0m",
            "\u001b[0m\u001b[1;30m|        }\u001b[0m",
            "\u001b[0m\u001b[1;30m|        */\u001b[0m",
            "\u001b[0m\u001b[1;30m|    }\u001b[0m",
            "\u001b[0m\u001b[1m\u001b[34mnon-static type variable S cannot be referenced from a static context\u001b[0m",
            ""
          ]
        }
      ],
      "execution_count": 1
    },
    {
      "id": "5fb5b2ac-4ac0-40cc-9f87-1675177e4baa",
      "cell_type": "code",
      "source": "/* compareTo 가 잘 동작하는지\n   - 왼쪽이 더 큰 경우\n   - 왼쪽이 더 작은 경우\n   - 같은 경우\n   이런 경우를 각각 포함하도록 이렇게 최소 3개 이상의 테스트를 실행해 보라\n*/\n\n// 대략 이런 식으로 테스트 실행\n// System.out.println( ??.compareTo(??) );\n// System.out.println( ??.compareTo(??) );\n// System.out.println( ??.compareTo(??) );\n\npublic class Main {\n    public static void main(String[] args) {\n        // 테스트 케이스 1: 첫 번째 요소가 더 큰 경우\n        Pair<Integer, String> pair1 = Pair.of(2, \"Apple\");\n        Pair<Integer, String> pair2 = Pair.of(1, \"Banana\");\n        System.out.println(pair1.compareTo(pair2)); // 예상 출력: 양수 (2 > 1)\n\n        // 테스트 케이스 2: 첫 번째 요소가 더 작은 경우\n        Pair<Integer, String> pair3 = Pair.of(1, \"Apple\");\n        Pair<Integer, String> pair4 = Pair.of(2, \"Banana\");\n        System.out.println(pair3.compareTo(pair4)); // 예상 출력: 음수 (1 < 2)\n\n        // 테스트 케이스 3: 두 요소 모두 동일한 경우\n        Pair<Integer, String> pair7 = Pair.of(1, \"Apple\");\n        Pair<Integer, String> pair8 = Pair.of(1, \"Apple\");\n        System.out.println(pair7.compareTo(pair8)); // 예상 출력: 0 (동일한 값)\n    }\n}\n",
      "metadata": {},
      "outputs": [],
      "execution_count": 2
    },
    {
      "id": "e2774a64-250e-4e89-a536-5a8ed42bb4ce",
      "cell_type": "markdown",
      "source": "------\n## Part B: 가변 순서쌍 ModifiablePair\n\n불변 순서쌍만을 priviate 필드로 갖고 있는 가변 순서쌍 제너릭 클래스를 작성하라\n\n가변 순서쌍은 불변 순서쌍과 마찬가지 이름의 getter 메소드가 있고 추가로 setter 메소드도 있다.\n\n또, 가변 순서쌍도 불변 순서쌍과 마찬가지로 Comparable 제너릭 인터페이스를 구현하라.\n",
      "metadata": {}
    },
    {
      "id": "38eb649f-d95e-40d8-a33b-658df4ee4a7f",
      "cell_type": "code",
      "source": "class ModifiablePair<F extends Comparable<F>, S extends Comparable<S>> implements Comparable<ModifiablePair<F, S>> {\n    private Pair<F, S> pair;\n\n    // 생성자: Pair 객체를 생성\n    ModifiablePair(F first, S second) {\n        this.pair = Pair.of(first, second);\n    }\n\n    // getter는 pair에 위임\n    public F first() {\n        return pair.first();\n    }\n\n    public S second() {\n        return pair.second();\n    }\n\n    // setter는 새로운 값을 가진 Pair 객체로 업데이트 (first 값은 그대로 두고 second만 변경)\n    public void setFirst(F first) {\n        this.pair = Pair.of(first, this.pair.second());\n    }\n\n    // setSecond는 first 값을 유지하고 second만 변경\n    public void setSecond(S second) {\n        this.pair = Pair.of(this.pair.first(), second);\n    }\n\n    // compareTo는 pair에게 위임\n    @Override\n    public int compareTo(ModifiablePair<F, S> other) {\n        return this.pair.compareTo(other.pair);\n    }\n\n    // toString은 pair의 toString을 호출\n    @Override\n    public String toString() {\n        return pair.toString();\n    }\n}\n",
      "metadata": {},
      "outputs": [
        {
          "ename": "CompilerException",
          "evalue": "",
          "output_type": "error",
          "traceback": [
            "\u001b[0m\u001b[1m\u001b[31mCompile error:\u001b[0m",
            "\u001b[0m\u001b[0m\u001b[1;30m|    class ModifiablePair< F /*extends Comparable<...>*/, S /*extends Comparable<...>*/ > /*implements Comparable<...>*/ {\u001b[0m\u001b[0m",
            "\u001b[0m\u001b[0m\u001b[1;30m|        private Pair<F,S> pair; // 이 field 말고 다른 field는 추가로 정의하지 말 것!\u001b[0m\u001b[0m",
            "\u001b[0m\u001b[0m\u001b[1;30m|    \u001b[0m\u001b[0m",
            "\u001b[0m\u001b[0m\u001b[1;30m|        ModifiablePair(F first, S second) {\u001b[0m\u001b[0m",
            "\u001b[0m\u001b[0m\u001b[1;30m|            throw new UnsupportedOperationException(\"Not implemented yet\");\u001b[0m\u001b[0m",
            "\u001b[0m\u001b[0m\u001b[1;30m|        }\u001b[0m\u001b[0m",
            "\u001b[0m\u001b[0m\u001b[1;30m|        \u001b[0m\u001b[0m",
            "\u001b[0m\u001b[0m\u001b[1;30m|        // getter들은 pair에게 위임(delegate)하는 방식으로 작성하라\u001b[0m\u001b[0m",
            "\u001b[0m\u001b[0m\u001b[1;30m|        public F first() {\u001b[0m\u001b[0m",
            "\u001b[0m\u001b[0m\u001b[1;30m|            throw new UnsupportedOperationException(\"Not implemented yet\");\u001b[0m\u001b[0m",
            "\u001b[0m\u001b[0m\u001b[1;30m|        }\u001b[0m\u001b[0m",
            "\u001b[0m\u001b[0m\u001b[1;30m|        public S second() {\u001b[0m\u001b[0m",
            "\u001b[0m\u001b[0m\u001b[1;30m|            throw new UnsupportedOperationException(\"Not implemented yet\");\u001b[0m\u001b[0m",
            "\u001b[0m\u001b[0m\u001b[1;30m|        }\u001b[0m\u001b[0m",
            "\u001b[0m\u001b[0m\u001b[1;30m|        \u001b[0m\u001b[0m",
            "\u001b[0m\u001b[0m\u001b[1;30m|        // setter들은 적절히 정의하라\u001b[0m\u001b[0m",
            "\u001b[0m\u001b[0m\u001b[1;30m|        public void setFirst(F first) {\u001b[0m\u001b[0m",
            "\u001b[0m\u001b[0m\u001b[1;30m|            throw new UnsupportedOperationException(\"Not implemented yet\");\u001b[0m\u001b[0m",
            "\u001b[0m\u001b[0m\u001b[1;30m|        }\u001b[0m\u001b[0m",
            "\u001b[0m\u001b[0m\u001b[1;30m|        public void setSecond(S second) {\u001b[0m\u001b[0m",
            "\u001b[0m\u001b[0m\u001b[1;30m|            throw new UnsupportedOperationException(\"Not implemented yet\");\u001b[0m\u001b[0m",
            "\u001b[0m\u001b[0m\u001b[1;30m|        }\u001b[0m\u001b[0m",
            "\u001b[0m\u001b[0m\u001b[1;30m|    \u001b[0m\u001b[0m",
            "\u001b[0m\u001b[0m\u001b[1;30m|        /*\u001b[0m\u001b[0m",
            "\u001b[0m\u001b[0m\u001b[1;30m|        // compareTo는 pair에게 위임(delegate)하는 방식으로 작성하라\u001b[0m\u001b[0m",
            "\u001b[0m\u001b[0m\u001b[1;30m|        @Override\u001b[0m\u001b[0m",
            "\u001b[0m\u001b[0m\u001b[1;30m|        public int compareTo(...) {\u001b[0m\u001b[0m",
            "\u001b[0m\u001b[0m\u001b[1;30m|        }\u001b[0m\u001b[0m",
            "\u001b[0m\u001b[0m\u001b[1;30m|        */\u001b[0m\u001b[0m",
            "\u001b[0m\u001b[0m\u001b[1;30m|    \u001b[0m\u001b[0m",
            "\u001b[0m\u001b[0m\u001b[1;30m|        @Override\u001b[0m\u001b[0m",
            "\u001b[0m\u001b[0m\u001b[1;30m|        public String toString() { \u001b[0m\u001b[0m",
            "\u001b[0m\u001b[0m\u001b[1;30m|            return pair.toString(); // toString은 그냥 pair에게 위임\u001b[0m\u001b[0m",
            "\u001b[0m\u001b[0m\u001b[1;30m|        }\u001b[0m\u001b[0m",
            "\u001b[0m\u001b[0m\u001b[1;30m|    }\u001b[0m\u001b[0m",
            "\u001b[0m\u001b[1m\u001b[34mUnresolved dependencies:\u001b[0m",
            "\u001b[0m\u001b[1m\u001b[34m   - class Pair\u001b[0m"
          ]
        }
      ],
      "execution_count": 3
    },
    {
      "id": "57af3b33-b9db-43bd-a8e7-5b35d97aaf5e",
      "cell_type": "code",
      "source": "// ModifiablePair<F,S>의 getter와 setter들이 잘 동작하는지 확인할 수 있는 적절한 테스트 코드 작성하여 실행하라.\n// 그러니까 `first()`, `second()`, `setFrist(F)`, `setSecond(S)` 메소드를 모두 활용하는 예시 코드를 작성해 실행하라는 말이다.\npublic class Main {\n    public static void main(String[] args) {\n        // 초기값 설정: first = 1, second = \"Apple\"\n        ModifiablePair<Integer, String> modifiablePair = new ModifiablePair<>(1, \"Apple\");\n\n        // 초기값 확인\n        System.out.println(\"초기값: (\" + modifiablePair.first() + \", \" + modifiablePair.second() + \")\");\n        // 예상 출력: (1, Apple)\n\n        // first 값을 변경: 1 -> 2\n        modifiablePair.setFirst(2);\n        System.out.println(\"setFirst(2) 후: (\" + modifiablePair.first() + \", \" + modifiablePair.second() + \")\");\n        // 예상 출력: (2, Apple)\n\n        // second 값을 변경: \"Apple\" -> \"Banana\"\n        modifiablePair.setSecond(\"Banana\");\n        System.out.println(\"setSecond(\\\"Banana\\\") 후: (\" + modifiablePair.first() + \", \" + modifiablePair.second() + \")\");\n        // 예상 출력: (2, Banana)\n\n        // first 값을 다시 변경: 2 -> 5\n        modifiablePair.setFirst(5);\n        System.out.println(\"setFirst(5) 후: (\" + modifiablePair.first() + \", \" + modifiablePair.second() + \")\");\n        // 예상 출력: (5, Banana)\n\n        // second 값을 다시 변경: \"Banana\" -> \"Orange\"\n        modifiablePair.setSecond(\"Orange\");\n        System.out.println(\"setSecond(\\\"Orange\\\") 후: (\" + modifiablePair.first() + \", \" + modifiablePair.second() + \")\");\n        // 예상 출력: (5, Orange)\n    }\n}\n",
      "metadata": {},
      "outputs": [],
      "execution_count": 4
    },
    {
      "id": "e0b9e66e-d3fa-4485-b6f6-4075eca8fcf3",
      "cell_type": "code",
      "source": "/* 가변 순써상에 대해서도\n  compareTo 가 잘 동작하는지\n   - 왼쪽이 더 큰 경우\n   - 왼쪽이 더 작은 경우\n   - 같은 경우\n   이런 경우를 각각 포함하도록 이렇게 최소 3개 이상의 테스트를 실행해 보라\n*/\n\npublic class Main {\n    public static void main(String[] args) {\n        // 테스트 케이스 1: 첫 번째 요소가 더 큰 경우\n        ModifiablePair<Integer, String> pair1 = new ModifiablePair<>(2, \"Apple\");\n        ModifiablePair<Integer, String> pair2 = new ModifiablePair<>(1, \"Banana\");\n        \n        int result1 = pair1.compareTo(pair2);\n        System.out.println(\"pair1.compareTo(pair2) 결과: \" + result1);\n        // 예상 출력: 양수 (2 > 1)\n\n        // 테스트 케이스 2: 첫 번째 요소가 더 작은 경우\n        ModifiablePair<Integer, String> pair3 = new ModifiablePair<>(1, \"Apple\");\n        ModifiablePair<Integer, String> pair4 = new ModifiablePair<>(2, \"Banana\");\n\n        int result2 = pair3.compareTo(pair4);\n        System.out.println(\"pair3.compareTo(pair4) 결과: \" + result2);\n        // 예상 출력: 음수 (1 < 2)\n\n        // 테스트 케이스 3: 첫 번째 요소가 같고, 두 번째 요소로 비교\n        ModifiablePair<Integer, String> pair5 = new ModifiablePair<>(1, \"Banana\");\n        ModifiablePair<Integer, String> pair6 = new ModifiablePair<>(1, \"Apple\");\n\n        int result3 = pair5.compareTo(pair6);\n        System.out.println(\"pair5.compareTo(pair6) 결과: \" + result3);\n        // 예상 출력: 양수 (\"Banana\" > \"Apple\")\n\n        // 테스트 케이스 4: 두 요소 모두 동일한 경우\n        ModifiablePair<Integer, String> pair7 = new ModifiablePair<>(1, \"Apple\");\n        ModifiablePair<Integer, String> pair8 = new ModifiablePair<>(1, \"Apple\");\n\n        int result4 = pair7.compareTo(pair8);\n        System.out.println(\"pair7.compareTo(pair8) 결과: \" + result4);\n        // 예상 출력: 0 (동일한 값)\n    }\n}\n",
      "metadata": {},
      "outputs": [],
      "execution_count": 5
    }
  ]
}